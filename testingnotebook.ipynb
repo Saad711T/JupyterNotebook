{
  "cells": [
    {
      "cell_type": "markdown",
      "metadata": {},
      "source": [
        "# Hello\n",
        "## Testing jupyter notebook\n",
        "\n",
        "-- Informations :"
      ]
    },
    {
      "cell_type": "markdown",
      "metadata": {},
      "source": [
        "# السلام عليكم أنا سعد 👋\n",
        "\n",
        "## المزيد عني\n",
        "[![LinkedIn](https://img.shields.io/badge/LinkedIn-%230077B5.svg?style=for-the-badge&logo=linkedin&logoColor=white)](https://www.linkedin.com/in/saadalmalki711/)\n",
        "[![Instagram](https://img.shields.io/badge/Instagram-%23E4405F.svg?style=for-the-badge&logo=instagram&logoColor=white)](https://www.instagram.com/creator_sai711)\n",
        "[![Website](https://img.shields.io/badge/Website-%2312100E.svg?style=for-the-badge&logo=google-chrome&logoColor=white)](https://saadthelegend.com)\n",
        "\n",
        "\n",
        "مرحباً بك في حسابي ! مهتم بـ :\n",
        "Data Science / Software and Web Development / IoT / Machine Learning .\n",
        "\n",
        "## نطاق الإهتمامات\n",
        "\n",
        "[![MySQL](https://img.shields.io/badge/mysql-4479A1.svg?style=for-the-badge&logo=mysql&logoColor=white)](https://www.mysql.com/)\n",
        "[![PostgreSQL](https://img.shields.io/badge/-PostgreSQL-4169E1?style=flat-square&logo=postgresql&logoColor=white)](https://www.postgresql.org/)\n",
        "[![Python](https://img.shields.io/badge/python-3670A0?style=for-the-badge&logo=python&logoColor=ffdd54)](https://www.python.org/)\n",
        "[![Java](https://img.shields.io/badge/Java-ED8B00?style=for-the-badge&logo=openjdk&logoColor=white)](https://www.java.com/)\n",
        "[![C++](https://img.shields.io/badge/c++-%2300599C.svg?style=for-the-badge&logo=c%2B%2B&logoColor=white)](https://isocpp.org/)\n",
        "[![PHP](https://img.shields.io/badge/PHP-777BB4?style=for-the-badge&logo=php&logoColor=white)](https://www.php.net/)\n",
        "[![LaTeX](https://img.shields.io/badge/latex-%23008080.svg?style=for-the-badge&logo=latex&logoColor=white)](https://www.latex-project.org/)\n",
        "[![JavaScript](https://img.shields.io/badge/-JavaScript-F7DF1E?style=flat-square&logo=javascript&logoColor=black)](https://www.javascript.com/)\n",
        "[![HTML5](https://img.shields.io/badge/-HTML5-E34F26?style=flat-square&logo=html5&logoColor=white)](https://developer.mozilla.org/en-US/docs/Web/Guide/HTML/HTML5)\n",
        "[![CSS3](https://img.shields.io/badge/-CSS3-1572B6?style=flat-square&logo=css3&logoColor=white)](https://developer.mozilla.org/en-US/docs/Web/CSS)\n",
        "[![SQL Server](https://img.shields.io/badge/-SQL%20Server-CC2927?style=flat-square&logo=microsoft-sql-server&logoColor=white)](https://www.microsoft.com/en-us/sql-server)\n",
        "[![MongoDB](https://img.shields.io/badge/-MongoDB-47A248?style=flat-square&logo=mongodb&logoColor=white)](https://www.mongodb.com/)\n",
        "[![Node.js](https://img.shields.io/badge/-Node.js-339933?style=flat-square&logo=node.js&logoColor=white)](https://nodejs.org/)\n",
        "[![Visual Studio Code](https://img.shields.io/badge/-VS%20Code-007ACC?style=flat-square&logo=visual-studio-code&logoColor=white)](https://code.visualstudio.com/)\n",
        "[![Visual Studio](https://img.shields.io/badge/-Visual%20Studio-5C2D91?style=flat-square&logo=visual-studio&logoColor=white)](https://visualstudio.microsoft.com/)\n",
        "[![Excel](https://img.shields.io/badge/Microsoft_Excel-217346?style=for-the-badge&logo=microsoft-excel&logoColor=white)](https://www.microsoft.com/en/microsoft-365/excel)\n",
        "[![Linux](https://img.shields.io/badge/platform-Linux-orange?logo=linux)](https://www.linux.org/)\n",
        "[![Google Cloud](https://img.shields.io/badge/-Google%20Cloud-4285F4?style=flat-square&logo=google-cloud&logoColor=white)](https://cloud.google.com/)\n",
        "\n",
        "\n",
        "\n",
        "## مشاريعي\n",
        "- [LibraryDB](https://github.com/Saad711T/LibraryDB)\n",
        "- [Volx App](https://blockelteam.itch.io/volx-library)\n",
        "- [SaadOS](https://github.com/Saad711T/SaadOS)\n",
        "- [My official website](https://saadthelegend.com)\n",
        "- [Discord random cars bot](https://github.com/Saad711T/randomcars)\n",
        "- [Arabian peninsula maps](https://saadthelegend1.itch.io/arabianpeninsulamaps)\n"
      ]
    },
    {
      "cell_type": "markdown",
      "metadata": {},
      "source": [
        "## Code Test Example :"
      ]
    },
    {
      "cell_type": "code",
      "execution_count": 6,
      "metadata": {
        "trusted": true
      },
      "outputs": [
        {
          "name": "stdout",
          "output_type": "stream",
          "text": [
            "Hello in my notebook\n"
          ]
        }
      ],
      "source": [
        "import random\n",
        "\n",
        "print (\"Hello in my notebook\")"
      ]
    },
    {
      "cell_type": "code",
      "execution_count": null,
      "metadata": {
        "vscode": {
          "languageId": "cpp"
        }
      },
      "outputs": [],
      "source": [
        "#include <iostream>\n",
        "#include <string>\n",
        "using namespace std;\n",
        "\n",
        "int main() {\n",
        "string name;\n",
        "string lname;\n",
        "\n",
        "cout<<\"Enter your first name : \"<<endl;\n",
        "cin>>name;\n",
        "cout<<\"Enter your last name : \"<<endl;\n",
        "cin>>lname;\n",
        "cout<<\"Welcome :\"<<name<<lname<<endl;\n",
        "\n",
        "return 0;\n",
        "}"
      ]
    }
  ],
  "metadata": {
    "kernelspec": {
      "display_name": "Python 3",
      "language": "python",
      "name": "python3"
    },
    "language_info": {
      "codemirror_mode": {
        "name": "ipython",
        "version": 3
      },
      "file_extension": ".py",
      "mimetype": "text/x-python",
      "name": "python",
      "nbconvert_exporter": "python",
      "pygments_lexer": "ipython3",
      "version": "3.12.8"
    }
  },
  "nbformat": 4,
  "nbformat_minor": 4
}
