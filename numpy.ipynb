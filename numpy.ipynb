{
 "cells": [
  {
   "cell_type": "markdown",
   "id": "493975be",
   "metadata": {},
   "source": [
    "# Testing numpy library"
   ]
  },
  {
   "cell_type": "markdown",
   "id": "e45acb98",
   "metadata": {},
   "source": [
    "## Install :\n",
    "\n",
    "or get this command `pip install numpy` in your terminal"
   ]
  },
  {
   "cell_type": "code",
   "execution_count": 1,
   "id": "0045ac1c",
   "metadata": {
    "vscode": {
     "languageId": "bat"
    }
   },
   "outputs": [
    {
     "name": "stdout",
     "output_type": "stream",
     "text": [
      "Requirement already satisfied: numpy in c:\\users\\saad7\\appdata\\local\\programs\\python\\python313\\lib\\site-packages (2.2.3)\n"
     ]
    },
    {
     "name": "stderr",
     "output_type": "stream",
     "text": [
      "\n",
      "[notice] A new release of pip is available: 25.0.1 -> 25.1.1\n",
      "[notice] To update, run: python.exe -m pip install --upgrade pip\n"
     ]
    }
   ],
   "source": [
    "!pip install numpy"
   ]
  },
  {
   "cell_type": "code",
   "execution_count": 3,
   "id": "8a8394b7",
   "metadata": {},
   "outputs": [
    {
     "name": "stdout",
     "output_type": "stream",
     "text": [
      "Numpy was imported\n"
     ]
    }
   ],
   "source": [
    "import numpy as np\n",
    "# Using numpy and testing the library\n",
    "print(\"Numpy was imported\")"
   ]
  },
  {
   "cell_type": "code",
   "execution_count": 11,
   "id": "ffeb5250",
   "metadata": {},
   "outputs": [],
   "source": [
    "x = np.array([1, 2, 3])"
   ]
  },
  {
   "cell_type": "code",
   "execution_count": 7,
   "id": "c6c831fd",
   "metadata": {},
   "outputs": [
    {
     "name": "stdout",
     "output_type": "stream",
     "text": [
      "1\n"
     ]
    }
   ],
   "source": [
    "# print first number in the array\n",
    "print(np.array([1, 2, 3])[0])"
   ]
  },
  {
   "cell_type": "code",
   "execution_count": 12,
   "id": "787d93ff",
   "metadata": {},
   "outputs": [],
   "source": [
    "y = np.array([3, 4, 5])"
   ]
  },
  {
   "cell_type": "markdown",
   "id": "fd1c7913",
   "metadata": {},
   "source": [
    "### Calculate 2 arrays"
   ]
  },
  {
   "cell_type": "code",
   "execution_count": 13,
   "id": "9c96aeb7",
   "metadata": {},
   "outputs": [
    {
     "name": "stdout",
     "output_type": "stream",
     "text": [
      "The sum of arrays : [4 6 8]\n"
     ]
    }
   ],
   "source": [
    "# calculate x array and y array\n",
    "sumarray = x + y\n",
    "# print the sum of the two arrays\n",
    "print(\"The sum of arrays :\", sumarray)"
   ]
  },
  {
   "cell_type": "markdown",
   "id": "f9101a84",
   "metadata": {},
   "source": [
    "### 3D Array :"
   ]
  },
  {
   "cell_type": "code",
   "execution_count": 14,
   "id": "4c6bbf21",
   "metadata": {},
   "outputs": [],
   "source": [
    "# 3d array\n",
    "z = np.array([[[1, 2], [3, 4]], [[5, 6], [7, 8]]])"
   ]
  },
  {
   "cell_type": "code",
   "execution_count": 20,
   "id": "bad2fddc",
   "metadata": {},
   "outputs": [
    {
     "name": "stdout",
     "output_type": "stream",
     "text": [
      "3D array:\n",
      "[[[1 2]\n",
      "  [3 4]]\n",
      "\n",
      " [[5 6]\n",
      "  [7 8]]]\n"
     ]
    }
   ],
   "source": [
    "print(\"3D array:\")\n",
    "print(z)\n"
   ]
  },
  {
   "cell_type": "code",
   "execution_count": 29,
   "id": "186d6896",
   "metadata": {},
   "outputs": [],
   "source": [
    "# advanced operations in numpy\n",
    "def advancedoperations():\n",
    "    # Create a 2D array\n",
    "    a = np.array([[1, 2], [3, 4]])\n",
    "    b = np.array([[5, 6], [7, 8]])\n",
    "\n",
    "    # Matrix multiplication\n",
    "    result = np.dot(a, b)\n",
    "    print(\"Matrix multiplication result:\")\n",
    "    print(result)\n",
    "\n",
    "    # Element-wise multiplication\n",
    "    elementwise_result = a * b\n",
    "    print(\"Element-wise multiplication result:\")\n",
    "    print(elementwise_result)"
   ]
  },
  {
   "cell_type": "markdown",
   "id": "88e4969b",
   "metadata": {},
   "source": [
    "### Output :"
   ]
  },
  {
   "cell_type": "code",
   "execution_count": 30,
   "id": "ade311e2",
   "metadata": {},
   "outputs": [
    {
     "name": "stdout",
     "output_type": "stream",
     "text": [
      "Numpy array created successfully\n",
      "Matrix multiplication result:\n",
      "[[19 22]\n",
      " [43 50]]\n",
      "Element-wise multiplication result:\n",
      "[[ 5 12]\n",
      " [21 32]]\n"
     ]
    }
   ],
   "source": [
    "print(\"Numpy array created successfully\")\n",
    "advancedoperations()"
   ]
  },
  {
   "cell_type": "markdown",
   "id": "ae39e7a8",
   "metadata": {},
   "source": [
    "#### Credits :\n",
    "\n",
    "`0xSaad / Saad Almalki`\n",
    "- [X](https://x.com/0xdonzdev)\n",
    "- [Github](https://github.com/Saad711T)\n",
    "- [LinkedIn](https://www.linkedin.com/in/saadalmalki711)\n"
   ]
  }
 ],
 "metadata": {
  "kernelspec": {
   "display_name": "Python 3",
   "language": "python",
   "name": "python3"
  },
  "language_info": {
   "codemirror_mode": {
    "name": "ipython",
    "version": 3
   },
   "file_extension": ".py",
   "mimetype": "text/x-python",
   "name": "python",
   "nbconvert_exporter": "python",
   "pygments_lexer": "ipython3",
   "version": "3.13.2"
  }
 },
 "nbformat": 4,
 "nbformat_minor": 5
}
